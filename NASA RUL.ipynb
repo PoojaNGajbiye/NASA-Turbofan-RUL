{
 "cells": [
  {
   "cell_type": "code",
   "execution_count": 4,
   "metadata": {},
   "outputs": [],
   "source": [
    "\n",
    "# Importing required libraries \n",
    "import pandas as pd\n",
    "import matplotlib.pyplot as plt\n",
    "import numpy as np\n",
    "import seaborn as sns\n",
    "import math\n",
    "from sklearn.preprocessing import MinMaxScaler\n",
    "\n",
    "from sklearn.metrics import r2_score\n",
    "from scipy import stats\n",
    "from sklearn.model_selection import GridSearchCV\n",
    "from sklearn.model_selection import train_test_split\n",
    "from sklearn.ensemble import RandomForestClassifier\n",
    "from sklearn.linear_model import LogisticRegression\n",
    "from sklearn.metrics import ConfusionMatrixDisplay\n",
    "from sklearn.metrics import confusion_matrix, accuracy_score, r2_score, roc_auc_score, precision_score, recall_score, f1_score\n",
    "import warnings\n",
    "warnings.filterwarnings('ignore')"
   ]
  },
  {
   "cell_type": "code",
   "execution_count": null,
   "metadata": {},
   "outputs": [],
   "source": [
    "data_train=pd.read_csv('CMaps/train_FD001.txt',sep=\" \")\n",
    "train_copy = data_train\n",
    "#initail dropping., bcs columns full of null values\n",
    "data_train.drop(columns=['Unnamed: 26','Unnamed: 27'],inplace=True)"
   ]
  },
  {
   "cell_type": "code",
   "execution_count": null,
   "metadata": {},
   "outputs": [],
   "source": [
    "# Give names to the features\n",
    "index_names = ['engine', 'cycle']\n",
    "setting_names = ['setting_1', 'setting_2', 'setting_3']\n",
    "sensor_names=[ \"(Fan inlet temperature) (◦R)\",\n",
    "\"(LPC outlet temperature) (◦R)\",\n",
    "\"(HPC outlet temperature) (◦R)\",\n",
    "\"(LPT outlet temperature) (◦R)\",\n",
    "\"(Fan inlet Pressure) (psia)\",\n",
    "\"(bypass-duct pressure) (psia)\",\n",
    "\"(HPC outlet pressure) (psia)\",\n",
    "\"(Physical fan speed) (rpm)\",\n",
    "\"(Physical core speed) (rpm)\",\n",
    "\"(Engine pressure ratio(P50/P2)\",\n",
    "\"(HPC outlet Static pressure) (psia)\",\n",
    "\"(Ratio of fuel flow to Ps30) (pps/psia)\",\n",
    "\"(Corrected fan speed) (rpm)\",\n",
    "\"(Corrected core speed) (rpm)\",\n",
    "\"(Bypass Ratio) \",\n",
    "\"(Burner fuel-air ratio)\",\n",
    "\"(Bleed Enthalpy)\",\n",
    "\"(Required fan speed)\",\n",
    "\"(Required fan conversion speed)\",\n",
    "\"(High-pressure turbines Cool air flow)\",\n",
    "\"(Low-pressure turbines Cool air flow)\" ]\n",
    "col_names = index_names + setting_names + sensor_names"
   ]
  },
  {
   "cell_type": "code",
   "execution_count": null,
   "metadata": {},
   "outputs": [],
   "source": [
    "data_train.columns = col_names\n",
    "data_train.describe()"
   ]
  },
  {
   "cell_type": "code",
   "execution_count": null,
   "metadata": {},
   "outputs": [],
   "source": [
    "data_train.shape\n",
    "#20630 rows and 26 columns\n",
    "\n",
    "data_train"
   ]
  },
  {
   "cell_type": "code",
   "execution_count": null,
   "metadata": {},
   "outputs": [],
   "source": [
    "data_train.dtypes\n",
    "#no categorica data types only numeric (4-int and remaining are in float)"
   ]
  },
  {
   "cell_type": "code",
   "execution_count": null,
   "metadata": {},
   "outputs": [],
   "source": [
    "data_train.info()"
   ]
  },
  {
   "cell_type": "code",
   "execution_count": null,
   "metadata": {},
   "outputs": [],
   "source": [
    "data_train.describe()"
   ]
  },
  {
   "cell_type": "code",
   "execution_count": null,
   "metadata": {},
   "outputs": [],
   "source": [
    "data_train.isnull().sum()\n",
    "#no null as we dropped "
   ]
  },
  {
   "cell_type": "code",
   "execution_count": null,
   "metadata": {},
   "outputs": [],
   "source": [
    "data_train.head(10)"
   ]
  },
  {
   "cell_type": "code",
   "execution_count": null,
   "metadata": {},
   "outputs": [],
   "source": [
    "data_train.nunique()"
   ]
  },
  {
   "cell_type": "code",
   "execution_count": null,
   "metadata": {},
   "outputs": [],
   "source": [
    "for i in data_train.select_dtypes(include=np.number):\n",
    "    sns.boxplot(data_train[i])\n",
    "    plt.show()\n"
   ]
  },
  {
   "cell_type": "code",
   "execution_count": null,
   "metadata": {},
   "outputs": [],
   "source": [
    "#presence of outliers., some data containing only one unique values., "
   ]
  },
  {
   "cell_type": "code",
   "execution_count": null,
   "metadata": {},
   "outputs": [],
   "source": [
    "# we will check for correlation\n",
    "plt.figure(figsize=(15,15))\n",
    "sns.set_style(\"whitegrid\", {\"axes.facecolor\": \".0\"})\n",
    "df_cluster2 = data_train.corr()\n",
    "plot_kws={\"s\": 1}\n",
    "sns.heatmap(data_train.corr(),\n",
    "            cmap='RdYlBu',\n",
    "            annot=True,\n",
    "            linecolor='lightgrey').set_facecolor('white')"
   ]
  },
  {
   "cell_type": "code",
   "execution_count": null,
   "metadata": {},
   "outputs": [],
   "source": [
    "#heavy correlation between variables can be seen, we will fix, threshold value=0.9"
   ]
  },
  {
   "cell_type": "code",
   "execution_count": null,
   "metadata": {},
   "outputs": [],
   "source": [
    "for i in data_train.select_dtypes(include=np.number):\n",
    "    sns.histplot(data_train[i])\n",
    "    plt.show()"
   ]
  },
  {
   "cell_type": "code",
   "execution_count": null,
   "metadata": {},
   "outputs": [],
   "source": [
    "print(data_train.shape)"
   ]
  },
  {
   "cell_type": "code",
   "execution_count": null,
   "metadata": {},
   "outputs": [],
   "source": [
    "for i in data_train.select_dtypes(include=np.number):\n",
    "    sns.boxplot(data_train[i])\n",
    "    plt.show()"
   ]
  },
  {
   "cell_type": "code",
   "execution_count": null,
   "metadata": {},
   "outputs": [],
   "source": [
    "data_train.nunique()"
   ]
  },
  {
   "cell_type": "code",
   "execution_count": null,
   "metadata": {},
   "outputs": [],
   "source": [
    "unwanted=[]\n",
    "for i in data_train.select_dtypes(include=np.number):\n",
    "    if data_train[i].nunique()==1:\n",
    "        unwanted.append(i)\n",
    "print(unwanted)"
   ]
  },
  {
   "cell_type": "code",
   "execution_count": null,
   "metadata": {},
   "outputs": [],
   "source": [
    "unwanted"
   ]
  },
  {
   "cell_type": "code",
   "execution_count": null,
   "metadata": {},
   "outputs": [],
   "source": [
    "data_train.drop(columns=unwanted, inplace=True)\n",
    "\n",
    "#so we will drop such columns"
   ]
  },
  {
   "cell_type": "code",
   "execution_count": null,
   "metadata": {},
   "outputs": [],
   "source": [
    "data_train.shape"
   ]
  },
  {
   "cell_type": "code",
   "execution_count": null,
   "metadata": {},
   "outputs": [],
   "source": [
    "# we will check for correlation\n",
    "plt.figure(figsize=(15,15))\n",
    "sns.set_style(\"whitegrid\", {\"axes.facecolor\": \".0\"})\n",
    "df_cluster2 = data_train.corr()\n",
    "plot_kws={\"s\": 1}\n",
    "sns.heatmap(data_train.corr(),\n",
    "            cmap='RdYlBu',\n",
    "            annot=True,\n",
    "            linecolor='lightgrey').set_facecolor('white')"
   ]
  },
  {
   "cell_type": "code",
   "execution_count": null,
   "metadata": {},
   "outputs": [],
   "source": [
    "threshold = 0.90\n",
    "plt.figure(figsize=(10,10))\n",
    "\n",
    "sns.set_style(\"whitegrid\", {\"axes.facecolor\": \".0\"})\n",
    "df_cluster2 = data_train.corr()\n",
    "mask = df_cluster2.where((abs(df_cluster2) >= threshold)).isna()\n",
    "plot_kws={\"s\": 1}\n",
    "sns.heatmap(df_cluster2,\n",
    "            cmap='RdYlBu',\n",
    "            annot=True,\n",
    "            mask=mask,\n",
    "            linewidths=0.2, \n",
    "            linecolor='lightgrey').set_facecolor('white')"
   ]
  },
  {
   "cell_type": "code",
   "execution_count": null,
   "metadata": {},
   "outputs": [],
   "source": [
    "#Drop one of the highly correlated features and keep the other. The threshold for correlation is set at 0.95\n",
    "\n",
    "#by correlation plot we got to know ., '(Corrected core speed) (rpm)' and '(Physical core speed) (rpm)' have high correlation \n",
    "#so will drop one ['(Corrected core speed) (rpm)']\n",
    "\n",
    "data_train.drop(['(Corrected core speed) (rpm)'],axis=1,inplace=True)"
   ]
  },
  {
   "cell_type": "code",
   "execution_count": null,
   "metadata": {},
   "outputs": [],
   "source": [
    "list(data_train)"
   ]
  },
  {
   "cell_type": "code",
   "execution_count": null,
   "metadata": {},
   "outputs": [],
   "source": [
    "list(data_train)"
   ]
  },
  {
   "cell_type": "code",
   "execution_count": null,
   "metadata": {},
   "outputs": [],
   "source": [
    "data_train.shape"
   ]
  },
  {
   "cell_type": "code",
   "execution_count": null,
   "metadata": {},
   "outputs": [],
   "source": [
    "features = list(data_train.columns)\n",
    "features"
   ]
  },
  {
   "cell_type": "code",
   "execution_count": null,
   "metadata": {},
   "outputs": [],
   "source": [
    "data_train.head()"
   ]
  },
  {
   "cell_type": "markdown",
   "metadata": {},
   "source": [
    "## Outlier Detection and Treatment"
   ]
  },
  {
   "cell_type": "code",
   "execution_count": null,
   "metadata": {},
   "outputs": [],
   "source": [
    "data_train"
   ]
  },
  {
   "cell_type": "code",
   "execution_count": null,
   "metadata": {},
   "outputs": [],
   "source": [
    "for i in data_train.select_dtypes(include=np.number):\n",
    "    sns.set(style=\"darkgrid\")\n",
    "    sns.boxplot(data_train[i],palette=\"Blues\")\n",
    "    \n",
    "    plt.show()"
   ]
  },
  {
   "cell_type": "code",
   "execution_count": null,
   "metadata": {},
   "outputs": [],
   "source": [
    "data_train.shape"
   ]
  },
  {
   "cell_type": "code",
   "execution_count": null,
   "metadata": {},
   "outputs": [],
   "source": [
    "data_train.nunique()"
   ]
  },
  {
   "cell_type": "code",
   "execution_count": null,
   "metadata": {},
   "outputs": [],
   "source": [
    "data_train['(bypass-duct pressure) (psia)'].unique()"
   ]
  },
  {
   "cell_type": "code",
   "execution_count": null,
   "metadata": {},
   "outputs": [],
   "source": [
    "(((data_train['(bypass-duct pressure) (psia)']==21.61).sum())/data_train.shape[0])*100"
   ]
  },
  {
   "cell_type": "code",
   "execution_count": null,
   "metadata": {},
   "outputs": [],
   "source": [
    "(((data_train['(bypass-duct pressure) (psia)']==21.6).sum())/data_train.shape[0])*100"
   ]
  },
  {
   "cell_type": "code",
   "execution_count": null,
   "metadata": {},
   "outputs": [],
   "source": [
    "#so 98% (bypass-duct pressure) has 26.61psia., and 1.9% has 26.6psia.,\n",
    "#and 26.61 is almost equal to 26.6., that means, we have only 1 unique value., \n",
    "# so will drop this column\n",
    "data_train.drop(['(bypass-duct pressure) (psia)'],axis=1,inplace=True)"
   ]
  },
  {
   "cell_type": "code",
   "execution_count": null,
   "metadata": {},
   "outputs": [],
   "source": [
    "data_train.shape"
   ]
  },
  {
   "cell_type": "code",
   "execution_count": null,
   "metadata": {},
   "outputs": [],
   "source": [
    "data_train.nunique()"
   ]
  },
  {
   "cell_type": "code",
   "execution_count": null,
   "metadata": {},
   "outputs": [],
   "source": [
    "#OUTLIER TREAMENT FOR TRAIN DATA\n",
    "# calculate the z-scores for each column\n",
    "z_scores = data_train.apply(lambda x: np.abs((x - x.mean()) / x.std()))\n",
    "\n",
    "# set a threshold for the z-score\n",
    "threshold = 3\n",
    "\n",
    "# identify the outliers\n",
    "outliers = z_scores > threshold"
   ]
  },
  {
   "cell_type": "code",
   "execution_count": null,
   "metadata": {},
   "outputs": [],
   "source": [
    "z_scores = (data_train - data_train.mean()) / data_train.std()\n",
    "\n",
    "# Replace values that exceed a certain threshold with the mode\n",
    "threshold = 2.5\n",
    "for col in data_train.columns:\n",
    "    outlier_mask = z_scores[col].abs() > threshold\n",
    "    data_train.loc[outlier_mask, col] = data_train[col].mask(outlier_mask).mode()[0]"
   ]
  },
  {
   "cell_type": "code",
   "execution_count": null,
   "metadata": {},
   "outputs": [],
   "source": [
    "for i in data_train.select_dtypes(include=np.number):\n",
    "    sns.boxplot(data_train[i],palette=\"Blues\")\n",
    "    plt.show()"
   ]
  },
  {
   "cell_type": "code",
   "execution_count": null,
   "metadata": {},
   "outputs": [],
   "source": [
    "for i in data_train.select_dtypes(include=np.number):\n",
    "    sns.set(style=\"darkgrid\")\n",
    "    sns.histplot(data_train[i],palette=\"Blues\")\n",
    "    \n",
    "    plt.show()\n",
    "    print(data_train[i].skew())"
   ]
  },
  {
   "cell_type": "code",
   "execution_count": null,
   "metadata": {},
   "outputs": [],
   "source": [
    "data_train.shape"
   ]
  },
  {
   "cell_type": "code",
   "execution_count": null,
   "metadata": {},
   "outputs": [],
   "source": [
    "print(data_train.shape)"
   ]
  },
  {
   "cell_type": "code",
   "execution_count": null,
   "metadata": {},
   "outputs": [],
   "source": [
    "data_train['cycle'].max()"
   ]
  },
  {
   "cell_type": "code",
   "execution_count": null,
   "metadata": {},
   "outputs": [],
   "source": [
    "# define the maximum life of each engine, \n",
    "#as this could be used to obtain the RUL at each point in time of the engine's life \n",
    "\n",
    "#remaining useful life (RUL) of each engine in the test dataset.\n",
    "#RUL is equivalent of number of flights remained for the engine after the last datapoint in the test dataset.\n",
    "data_train_RUL = data_train.groupby(['engine']).agg({'cycle':'max'})\n",
    "data_train_RUL.rename(columns={'cycle':'life'},inplace=True)\n",
    "data_train_RUL.head()"
   ]
  },
  {
   "cell_type": "code",
   "execution_count": null,
   "metadata": {},
   "outputs": [],
   "source": [
    "data_train=data_train.merge(data_train_RUL,how='left',on=['engine'])"
   ]
  },
  {
   "cell_type": "code",
   "execution_count": null,
   "metadata": {},
   "outputs": [],
   "source": [
    "data_train['RUL']=data_train['life']-data_train['cycle']\n",
    "data_train.drop(['life'],axis=1,inplace=True)\n",
    "\n",
    "# the RUL prediction is only useful nearer to the end of the engine's life, therefore we put an upper limit on the RUL\n",
    "# this is a bit sneaky, since it supposes that the test set has RULs of less than this value, the closer you are\n",
    "# to the true value, the more accurate the model will be\n",
    "data_train['RUL'][data_train['RUL']>125]=125\n",
    "data_train.head()\n",
    "\n",
    "\n",
    "# the RUL prediction is only useful nearer to the end of the engine's life, therefore we put an upper limit on the RUL\n",
    "# this is a bit sneaky, since it supposes that the test set has RULs of less than this value, the closer you are"
   ]
  },
  {
   "cell_type": "code",
   "execution_count": null,
   "metadata": {},
   "outputs": [],
   "source": [
    "print(data_train.isnull().sum())\n"
   ]
  },
  {
   "cell_type": "code",
   "execution_count": null,
   "metadata": {},
   "outputs": [],
   "source": [
    "data_train['RUL'].unique()"
   ]
  },
  {
   "cell_type": "code",
   "execution_count": null,
   "metadata": {},
   "outputs": [],
   "source": [
    "print(data_train.shape)"
   ]
  },
  {
   "cell_type": "code",
   "execution_count": null,
   "metadata": {},
   "outputs": [],
   "source": [
    "plt.figure(figsize=(15,15))\n",
    "sns.heatmap(data_train.corr(), annot=True )\n",
    "plt.show()"
   ]
  },
  {
   "cell_type": "code",
   "execution_count": null,
   "metadata": {},
   "outputs": [],
   "source": [
    "threshold = 0.90\n",
    "plt.figure(figsize=(10,10))\n",
    "threshold = 0.6\n",
    "sns.set_style(\"whitegrid\", {\"axes.facecolor\": \".0\"})\n",
    "df_cluster2 = data_train.corr()\n",
    "mask = df_cluster2.where((abs(df_cluster2) >= threshold)).isna()\n",
    "plot_kws={\"s\": 1}\n",
    "sns.heatmap(df_cluster2,\n",
    "            cmap='RdYlBu',\n",
    "            annot=True,\n",
    "            mask=mask,\n",
    "            linewidths=0.2, \n",
    "            linecolor='lightgrey').set_facecolor('white')"
   ]
  },
  {
   "cell_type": "code",
   "execution_count": null,
   "metadata": {},
   "outputs": [],
   "source": [
    "data_train.drop(columns=['(Physical core speed) (rpm)','engine','setting_1','setting_2','engine'], inplace=True)"
   ]
  },
  {
   "cell_type": "code",
   "execution_count": null,
   "metadata": {},
   "outputs": [],
   "source": [
    "list(data_train)"
   ]
  },
  {
   "cell_type": "code",
   "execution_count": null,
   "metadata": {},
   "outputs": [],
   "source": [
    "threshold = 0.90\n",
    "plt.figure(figsize=(10,10))\n",
    "threshold = 0.6\n",
    "sns.set_style(\"whitegrid\", {\"axes.facecolor\": \".0\"})\n",
    "df_cluster2 = data_train.corr()\n",
    "mask = df_cluster2.where((abs(df_cluster2) >= threshold)).isna()\n",
    "plot_kws={\"s\": 1}\n",
    "sns.heatmap(df_cluster2,\n",
    "            cmap='RdYlBu',\n",
    "            annot=True,\n",
    "            mask=mask,\n",
    "            linewidths=0.2, \n",
    "            linecolor='lightgrey').set_facecolor('white')"
   ]
  },
  {
   "cell_type": "code",
   "execution_count": null,
   "metadata": {},
   "outputs": [],
   "source": [
    "data_train.drop(columns=['(Corrected fan speed) (rpm)','(Physical fan speed) (rpm)','(HPC outlet temperature) (◦R)'], inplace=True)"
   ]
  },
  {
   "cell_type": "code",
   "execution_count": null,
   "metadata": {},
   "outputs": [],
   "source": [
    "\n",
    "data_train.isnull().sum()"
   ]
  },
  {
   "cell_type": "code",
   "execution_count": null,
   "metadata": {},
   "outputs": [],
   "source": [
    "data_train.nunique()"
   ]
  },
  {
   "cell_type": "code",
   "execution_count": null,
   "metadata": {},
   "outputs": [],
   "source": [
    "\n",
    "new_train_data=pd.DataFrame(data_train)"
   ]
  },
  {
   "cell_type": "code",
   "execution_count": null,
   "metadata": {},
   "outputs": [],
   "source": [
    "new_train_data"
   ]
  },
  {
   "cell_type": "code",
   "execution_count": null,
   "metadata": {},
   "outputs": [],
   "source": [
    "x= data_train.iloc[:, :-1]\n",
    "y = data_train.iloc[:,-1]\n",
    "\n",
    "from sklearn.preprocessing import MinMaxScaler\n",
    "sc = MinMaxScaler()\n",
    "x = sc.fit_transform(x)\n",
    "\n",
    "from sklearn.model_selection import train_test_split\n",
    "\n",
    "x_train, x_test, y_train, y_test = train_test_split(x, y, test_size=0.2, random_state=42)\n",
    "\n",
    "print('x_train shape : ',x_train.shape)\n",
    "print('x_test shape : ',x_test.shape)\n",
    "print('y_train shape : ',y_train.shape)\n",
    "print('y_test shape : ',y_test.shape)"
   ]
  },
  {
   "cell_type": "markdown",
   "metadata": {},
   "source": [
    "## Linear Regression"
   ]
  },
  {
   "cell_type": "code",
   "execution_count": null,
   "metadata": {},
   "outputs": [],
   "source": [
    "from sklearn.linear_model import LinearRegression\n",
    "from sklearn.model_selection import cross_val_score\n",
    "from sklearn.metrics import  mean_squared_error,r2_score, mean_absolute_percentage_error\n",
    "model = LinearRegression()\n",
    "model.fit(x_train, y_train)"
   ]
  },
  {
   "cell_type": "code",
   "execution_count": null,
   "metadata": {},
   "outputs": [],
   "source": [
    "# make predictions on the testing data\n",
    "y_pred = model.predict(x_test)"
   ]
  },
  {
   "cell_type": "code",
   "execution_count": null,
   "metadata": {},
   "outputs": [],
   "source": [
    "# evaluate the performance of the model\n",
    "mse = mean_squared_error(y_test, y_pred)\n",
    "rmse = np.sqrt(mse)\n",
    "r2 = r2_score(y_test, y_pred)\n",
    "mape = mean_absolute_percentage_error(y_test, y_pred)\n",
    "print(f\"Mean squared error: {mse}\")\n",
    "print(f\"Root mean squared error: {rmse}\")\n",
    "print(f\"R-squared score: {r2}\")\n",
    "print(f\"mean_absolute_percentage_error: {mape}\")\n",
    "\n",
    "training_score = cross_val_score(model, x_train, y_train, cv=5)\n",
    "print(\"Algorithm: \", model, \"Has a training score of\", round(training_score.mean(), 2) * 100, \"% accuracy score\")"
   ]
  },
  {
   "cell_type": "markdown",
   "metadata": {},
   "source": [
    "## Random Forest"
   ]
  },
  {
   "cell_type": "code",
   "execution_count": null,
   "metadata": {},
   "outputs": [],
   "source": [
    "from sklearn.ensemble import RandomForestRegressor\n",
    "\n",
    "model=RandomForestRegressor()\n",
    "model.fit(x_train, y_train)"
   ]
  },
  {
   "cell_type": "code",
   "execution_count": null,
   "metadata": {},
   "outputs": [],
   "source": [
    "mse = mean_squared_error(y_test, y_pred)\n",
    "rmse = np.sqrt(mse)\n",
    "r2 = r2_score(y_test, y_pred)\n",
    "print(f\"Mean squared error: {mse}\")\n",
    "print(f\"Root mean squared error: {rmse}\")\n",
    "print(f\"R-squared score: {r2}\")\n",
    "\n",
    "training_score = cross_val_score(model, x_train, y_train, cv=5)\n",
    "print(\"Algorithm: \", model, \"Has a training score of\", round(training_score.mean(), 2) * 100, \"% accuracy score\")"
   ]
  },
  {
   "cell_type": "markdown",
   "metadata": {},
   "source": [
    "## Decision Tree"
   ]
  },
  {
   "cell_type": "code",
   "execution_count": null,
   "metadata": {},
   "outputs": [],
   "source": [
    "from sklearn.tree import DecisionTreeRegressor\n",
    "\n",
    "model=DecisionTreeRegressor()\n",
    "model.fit(x_train, y_train)"
   ]
  },
  {
   "cell_type": "code",
   "execution_count": null,
   "metadata": {},
   "outputs": [],
   "source": [
    "mse = mean_squared_error(y_test, y_pred)\n",
    "rmse = np.sqrt(mse)\n",
    "r2 = r2_score(y_test, y_pred)\n",
    "print(f\"Mean squared error: {mse}\")\n",
    "print(f\"Root mean squared error: {rmse}\")\n",
    "print(f\"R-squared score: {r2}\")\n",
    "\n",
    "training_score = cross_val_score(model, x_train, y_train, cv=5)\n",
    "print(\"Algorithm: \", model, \"Has a training score of\", round(training_score.mean(), 2) * 100, \"% accuracy score\")"
   ]
  },
  {
   "cell_type": "markdown",
   "metadata": {},
   "source": [
    "## KNN"
   ]
  },
  {
   "cell_type": "code",
   "execution_count": null,
   "metadata": {},
   "outputs": [],
   "source": [
    "\n",
    "from sklearn.neighbors import KNeighborsRegressor\n",
    "\n",
    "model=KNeighborsRegressor()\n",
    "model.fit(x_train, y_train)"
   ]
  },
  {
   "cell_type": "code",
   "execution_count": null,
   "metadata": {},
   "outputs": [],
   "source": [
    "mse = mean_squared_error(y_test, y_pred)\n",
    "rmse = np.sqrt(mse)\n",
    "r2 = r2_score(y_test, y_pred)\n",
    "print(f\"Mean squared error: {mse}\")\n",
    "print(f\"Root mean squared error: {rmse}\")\n",
    "print(f\"R-squared score: {r2}\")"
   ]
  },
  {
   "cell_type": "code",
   "execution_count": null,
   "metadata": {},
   "outputs": [],
   "source": [
    "training_score = cross_val_score(model, x_train, y_train, cv=5)\n",
    "print(\"Algorithm: \", model, \"Has a training score of\", round(training_score.mean(), 2) * 100, \"% accuracy score\")"
   ]
  },
  {
   "cell_type": "code",
   "execution_count": null,
   "metadata": {},
   "outputs": [],
   "source": [
    "from sklearn.ensemble import GradientBoostingRegressor\n",
    "\n",
    "model=GradientBoostingRegressor()\n",
    "model.fit(x_train, y_train)"
   ]
  },
  {
   "cell_type": "code",
   "execution_count": null,
   "metadata": {},
   "outputs": [],
   "source": [
    "mse = mean_squared_error(y_test, y_pred)\n",
    "rmse = np.sqrt(mse)\n",
    "r2 = r2_score(y_test, y_pred)\n",
    "print(f\"Mean squared error: {mse}\")\n",
    "print(f\"Root mean squared error: {rmse}\")\n",
    "print(f\"R-squared score: {r2}\")"
   ]
  },
  {
   "cell_type": "code",
   "execution_count": null,
   "metadata": {},
   "outputs": [],
   "source": [
    "training_score = cross_val_score(model, x_train, y_train, cv=5)\n",
    "print(\"Algorithm: \", model, \"Has a training score of\", round(training_score.mean(), 2) * 100, \"% accuracy score\")"
   ]
  },
  {
   "cell_type": "markdown",
   "metadata": {},
   "source": [
    "## CONCLUSION\n",
    "\n",
    "Only the below 10 variables were found to be correlated to RUL\n",
    "\n",
    "cycle\n",
    "\n",
    "LPC outlet temperature\n",
    "\n",
    "LPT outlet temperature\n",
    "\n",
    "HPC outlet pressure\n",
    "\n",
    "HPC outlet Static pressure\n",
    "\n",
    "Ratio of fuel flow to Ps30\n",
    "\n",
    "Bypass Ratio\n",
    "\n",
    "Bleed Enthalpy\n",
    "\n",
    "High-pressure turbines Cool air flow\n",
    "\n",
    "Low-pressure turbines Cool air flow"
   ]
  },
  {
   "cell_type": "code",
   "execution_count": null,
   "metadata": {},
   "outputs": [],
   "source": [
    "data_train.info()"
   ]
  },
  {
   "cell_type": "markdown",
   "metadata": {},
   "source": [
    "GradientBoostingRegressor() Has a training score of 83.0 % accuracy score\n",
    "\n",
    "KNeighborsRegressor() Has a training score of 81.0 % accuracy score\n",
    "\n",
    "RandomForestRegressor() Has a training score of 83.0 % accuracy score\n",
    "\n",
    "LinearRegression() Has a training score of 77.0 % accuracy score\n",
    "\n",
    "DecisionTreeRegressor() Has a training score of 66.0 % accuracy score"
   ]
  }
 ],
 "metadata": {
  "kernelspec": {
   "display_name": "Python 3",
   "language": "python",
   "name": "python3"
  },
  "language_info": {
   "codemirror_mode": {
    "name": "ipython",
    "version": 3
   },
   "file_extension": ".py",
   "mimetype": "text/x-python",
   "name": "python",
   "nbconvert_exporter": "python",
   "pygments_lexer": "ipython3",
   "version": "3.11.9"
  }
 },
 "nbformat": 4,
 "nbformat_minor": 2
}
